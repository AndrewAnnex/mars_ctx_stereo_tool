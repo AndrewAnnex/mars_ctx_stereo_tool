{
 "cells": [
  {
   "cell_type": "markdown",
   "metadata": {},
   "source": [
    "# Mars CTX Stereo Tool\n"
   ]
  },
  {
   "cell_type": "markdown",
   "metadata": {},
   "source": [
    "# Imports"
   ]
  },
  {
   "cell_type": "code",
   "execution_count": 151,
   "metadata": {
    "collapsed": false,
    "jupyter": {
     "outputs_hidden": false
    },
    "pycharm": {
     "name": "#%%\n"
    }
   },
   "outputs": [],
   "source": [
    "from shapely.geometry import shape"
   ]
  },
  {
   "cell_type": "code",
   "execution_count": null,
   "metadata": {},
   "outputs": [],
   "source": []
  },
  {
   "cell_type": "code",
   "execution_count": 190,
   "metadata": {
    "collapsed": false,
    "jupyter": {
     "outputs_hidden": false
    },
    "pycharm": {
     "name": "#%%\n"
    }
   },
   "outputs": [],
   "source": [
    "import geopandas as gp\n",
    "from sidecar import Sidecar\n",
    "import os\n",
    "import json\n",
    "from ipyleaflet import TileLayer, Map, DrawControl, SearchControl, Marker, AwesomeIcon, GeoJSON, GeoData, LayerGroup \n",
    "from ipyleaflet import WidgetControl, GeoJSON, basemap_to_tiles, LayersControl, projections, FullScreenControl\n",
    "from ipywidgets import Text, HTML\n"
   ]
  },
  {
   "cell_type": "markdown",
   "metadata": {},
   "source": [
    "# Defs"
   ]
  },
  {
   "cell_type": "code",
   "execution_count": 153,
   "metadata": {
    "collapsed": false,
    "jupyter": {
     "outputs_hidden": false
    },
    "pycharm": {
     "name": "#%%\n"
    }
   },
   "outputs": [],
   "source": [
    "mars_eqc_crs = {'custom': True, 'name': 'Mars2000', 'proj4def': '+proj=eqc +lat_ts=0 +lat_0=0 +lon_0=0 +x_0=0 +y_0=0 +a=3396190 +b=3396190 +units=m +no_defs', }\n",
    "mars_np_crs = {'custom': True, 'name': 'IAU2000:49919', 'proj4def': '+proj=stere +lat_0=90 +lon_0=0 +k=1 +x_0=0 +y_0=0 +a=3396190 +b=3376200 +units=m +no_defs', }\n",
    "mars_sp_crs = {'custom': True, 'name': 'IAU2000:49920', 'proj4def': '+proj=stere +lat_0=-90 +lon_0=0 +k=1 +x_0=0 +y_0=0 +a=3396190 +b=3376200 +units=m +no_defs', }"
   ]
  },
  {
   "cell_type": "code",
   "execution_count": 154,
   "metadata": {
    "collapsed": false,
    "jupyter": {
     "outputs_hidden": false
    },
    "pycharm": {
     "name": "#%%\n"
    }
   },
   "outputs": [],
   "source": [
    "ctx_fp_url = 'https://ode.rsl.wustl.edu/mars/datafile/derived_products/coverageshapefiles/mars/mro/ctx/edr/mars_mro_ctx_edr_c0a.zip'"
   ]
  },
  {
   "cell_type": "code",
   "execution_count": 155,
   "metadata": {
    "collapsed": false,
    "jupyter": {
     "outputs_hidden": false
    },
    "pycharm": {
     "name": "#%%\n"
    }
   },
   "outputs": [],
   "source": [
    "ctx_df = gp.read_file(ctx_fp_url)"
   ]
  },
  {
   "cell_type": "code",
   "execution_count": 156,
   "metadata": {},
   "outputs": [],
   "source": [
    "good_columns = ['ProductId','Ext2URL', 'EmAngle', 'InAngle', 'PhAngle']"
   ]
  },
  {
   "cell_type": "code",
   "execution_count": 243,
   "metadata": {
    "collapsed": false,
    "jupyter": {
     "outputs_hidden": false
    },
    "pycharm": {
     "name": "#%%\n"
    }
   },
   "outputs": [],
   "source": [
    "mola_color_shade_url = 'https://astro.arcgis.com/arcgis/rest/services/OnMars/MColorDEM/MapServer/tile/{z}/{y}/{x}'\n",
    "mola_color_bm = {\n",
    "    'url': mola_color_shade_url,\n",
    "    'attribution': 'USGS/ESRI/NASA',\n",
    "    'crs':projections.EPSG4326,\n",
    "    'max_native_zoom': 5,\n",
    "}\n",
    "muarry_ctx_global_mosaic = 'https://astro.arcgis.com/arcgis/rest/services/OnMars/CTX/MapServer/tile/{z}/{y}/{x}'\n",
    "muarry_ctx_global_mosaic_bm = {\n",
    "    'url': muarry_ctx_global_mosaic,\n",
    "    'attribution': 'CalTech/USGS/MSSS/NASA',\n",
    "    'crs':projections.EPSG4326,\n",
    "    'max_native_zoom': 12,\n",
    "}"
   ]
  },
  {
   "cell_type": "code",
   "execution_count": 244,
   "metadata": {
    "collapsed": false,
    "jupyter": {
     "outputs_hidden": false
    },
    "pycharm": {
     "name": "#%%\n"
    }
   },
   "outputs": [],
   "source": [
    "def perform_stereo_query(df=ctx_df):\n",
    "    # get query as shape\n",
    "    bbox = shape(querys['features'][0]['geometry'])\n",
    "    minx, miny, maxx, maxy = bbox.bounds\n",
    "    # filter df down to everything intersecting the bbox\n",
    "    df_fp1 = df.cx[minx:maxx, miny:maxy]\n",
    "    # for now don't allow more than 100 ctx footprints, replace with something smarter later\n",
    "    if len(df_fp1) > 100:\n",
    "        df_fp1 = df_fp1.iloc[0:100]\n",
    "    # perform more of query\n",
    "    left = df_fp1.query('EmAngle < 5.0').copy()\n",
    "    left.loc[:,'lg'] = left['geometry']\n",
    "    right = df_fp1.query('EmAngle >= 5.0').copy()\n",
    "    right.loc[:,'rg'] = right['geometry']\n",
    "    # todo: drop any duplicates which shouldn't be possible but floats are bad\n",
    "    df_fp2 = gp.overlay(left, right , how='intersection')\n",
    "    df_fp2['diff_em'] = (df_fp2['EmAngle_2'] - df_fp2['EmAngle_1']).abs() \n",
    "    df_fp2['ovarea'] = df_fp2['geometry'].to_crs(mars_eqc_crs['proj4def']).area\n",
    "    #\n",
    "    # tt['ovarea_wl'] = gp.overlay(tt['geometry'], tt['lg'], how='intersection').area / tt['lg'].area * 100\n",
    "    # tt['ovarea_wr'] = gp.overlay(tt['geometry'], tt['rg'], how='intersection').area / tt['rg'].area * 100\n",
    "    # done!\n",
    "    del df_fp2['lg']\n",
    "    del df_fp2['rg']\n",
    "    return df_fp2\n",
    "    "
   ]
  },
  {
   "cell_type": "code",
   "execution_count": 245,
   "metadata": {},
   "outputs": [],
   "source": [
    "good_query_columns = ['ProductId_1', 'ProductId_2', 'EmAngle_1', 'EmAngle_2', 'diff_em', 'ovarea', 'Ext2URL_1', 'Ext2URL_2',]"
   ]
  },
  {
   "cell_type": "code",
   "execution_count": 256,
   "metadata": {},
   "outputs": [],
   "source": [
    "# make the map\n",
    "m = Map(\n",
    "    center=(0,0),\n",
    "    zoom=1, \n",
    "    basemap=TileLayer(**mola_color_bm),\n",
    "    crs=projections.EPSG4326,\n",
    ")\n",
    "m.add_layer(TileLayer(**muarry_ctx_global_mosaic_bm, name='CTX Global Mosaic'))\n",
    "# hover widget \n",
    "html = HTML('''Hover over a Stereo Candidate''')\n",
    "html.layout.margin = '0px 20px 20px 20px'\n",
    "hovercontrol = WidgetControl(widget=html, position='topright')\n",
    "m.add_control(hovercontrol)\n",
    "# update html, needs to be used on the geodata.on_hover\n",
    "def update_html(feature,  **kwargs):\n",
    "    html.value = '''\n",
    "        <h3><b>{}</b></h3>\n",
    "        <a target=\"_blank\" rel=\"noopener noreferrer\" href=\"{}\"><h4>LeftImg: {}</h4></a>\n",
    "        <a target=\"_blank\" rel=\"noopener noreferrer\" href=\"{}\"><h4>RightImg: {}</h4></a>\n",
    "    '''.format(feature['properties']['diff_em'],\n",
    "               feature['properties']['Ext2URL_1'],\n",
    "               feature['properties']['ProductId_1'],\n",
    "               feature['properties']['Ext2URL_2'],\n",
    "               feature['properties']['ProductId_2'])\n",
    "# full screen control\n",
    "full_screen_control = FullScreenControl()\n",
    "m.add_control(full_screen_control)\n",
    "\n"
   ]
  },
  {
   "cell_type": "code",
   "execution_count": 257,
   "metadata": {
    "collapsed": false,
    "jupyter": {
     "outputs_hidden": false
    },
    "pycharm": {
     "name": "#%%\n"
    }
   },
   "outputs": [],
   "source": [
    "draw_control = DrawControl()\n",
    "draw_control.rectangle = {\n",
    "    \"shapeOptions\": {\n",
    "        \"fillColor\": \"#fca45d\",\n",
    "        \"color\": \"#fca45d\",\n",
    "        \"fillOpacity\": .1\n",
    "    }\n",
    "}\n",
    "\n",
    "querys = {\n",
    "    'type': 'FeatureCollection',\n",
    "    'features': [],\n",
    "}\n",
    "# current result store the df in 0, and the layer in 1\n",
    "current_results = [None, None]\n",
    "def on_selection(self, action, geo_json):\n",
    "    global current_results, update_html\n",
    "    if len(querys['features'])>=1:\n",
    "        querys['features'] = list()\n",
    "    querys['features'].append(geo_json)\n",
    "    # perform query\n",
    "    dfq = perform_stereo_query()\n",
    "    current_results[0] = dfq \n",
    "    # update map\n",
    "    if current_results[1] is not None:\n",
    "        m.remove_layer(current_results[1])\n",
    "    gd = GeoData(\n",
    "        geo_dataframe=current_results[0][[*good_query_columns, 'geometry']],\n",
    "        name='Current Results',\n",
    "        hover_style={'fillColor': 'red' , 'fillOpacity': 0.2},\n",
    "    )\n",
    "    gd.on_hover(update_html)\n",
    "    current_results[1] = gd\n",
    "    m.add_layer(current_results[1])\n",
    "    \n",
    "draw_control.on_draw(on_selection)\n",
    "m.add_control(draw_control)\n",
    "control = LayersControl(position='bottomleft')\n",
    "m.add_control(control)\n"
   ]
  },
  {
   "cell_type": "code",
   "execution_count": 258,
   "metadata": {},
   "outputs": [
    {
     "data": {
      "application/vnd.jupyter.widget-view+json": {
       "model_id": "fe5b7a1adf3440a2b239e5a40ab21d34",
       "version_major": 2,
       "version_minor": 0
      },
      "text/plain": [
       "Map(center=[0, 0], controls=(ZoomControl(options=['position', 'zoom_in_text', 'zoom_in_title', 'zoom_out_text'…"
      ]
     },
     "metadata": {},
     "output_type": "display_data"
    }
   ],
   "source": [
    "m"
   ]
  },
  {
   "cell_type": "code",
   "execution_count": null,
   "metadata": {},
   "outputs": [],
   "source": []
  },
  {
   "cell_type": "code",
   "execution_count": null,
   "metadata": {},
   "outputs": [],
   "source": []
  },
  {
   "cell_type": "code",
   "execution_count": 230,
   "metadata": {},
   "outputs": [],
   "source": [
    "# finally show the map\n",
    "sc = Sidecar(title='Mars')\n",
    "with sc:\n",
    "    display(m)"
   ]
  },
  {
   "cell_type": "code",
   "execution_count": 231,
   "metadata": {},
   "outputs": [
    {
     "data": {
      "text/html": [
       "<div>\n",
       "<style scoped>\n",
       "    .dataframe tbody tr th:only-of-type {\n",
       "        vertical-align: middle;\n",
       "    }\n",
       "\n",
       "    .dataframe tbody tr th {\n",
       "        vertical-align: top;\n",
       "    }\n",
       "\n",
       "    .dataframe thead th {\n",
       "        text-align: right;\n",
       "    }\n",
       "</style>\n",
       "<table border=\"1\" class=\"dataframe\">\n",
       "  <thead>\n",
       "    <tr style=\"text-align: right;\">\n",
       "      <th></th>\n",
       "      <th>ProductId_1</th>\n",
       "      <th>ProductId_2</th>\n",
       "      <th>EmAngle_1</th>\n",
       "      <th>EmAngle_2</th>\n",
       "      <th>diff_em</th>\n",
       "      <th>ovarea</th>\n",
       "      <th>Ext2URL_1</th>\n",
       "      <th>Ext2URL_2</th>\n",
       "    </tr>\n",
       "  </thead>\n",
       "  <tbody>\n",
       "    <tr>\n",
       "      <th>0</th>\n",
       "      <td>P02_001876_1852_XI_05N010W</td>\n",
       "      <td>P02_002021_1848_XI_04N010W</td>\n",
       "      <td>1.86</td>\n",
       "      <td>23.23</td>\n",
       "      <td>21.37</td>\n",
       "      <td>6.680888e+08</td>\n",
       "      <td>http://viewer.mars.asu.edu/planetview/inst/ctx...</td>\n",
       "      <td>http://viewer.mars.asu.edu/planetview/inst/ctx...</td>\n",
       "    </tr>\n",
       "    <tr>\n",
       "      <th>1</th>\n",
       "      <td>F21_044006_1853_XN_05N010W</td>\n",
       "      <td>P02_002021_1848_XI_04N010W</td>\n",
       "      <td>0.10</td>\n",
       "      <td>23.23</td>\n",
       "      <td>23.13</td>\n",
       "      <td>1.056086e+09</td>\n",
       "      <td>http://viewer.mars.asu.edu/planetview/inst/ctx...</td>\n",
       "      <td>http://viewer.mars.asu.edu/planetview/inst/ctx...</td>\n",
       "    </tr>\n",
       "    <tr>\n",
       "      <th>2</th>\n",
       "      <td>P02_001876_1852_XI_05N010W</td>\n",
       "      <td>B09_013097_1850_XN_05N010W</td>\n",
       "      <td>1.86</td>\n",
       "      <td>7.49</td>\n",
       "      <td>5.63</td>\n",
       "      <td>4.986608e+08</td>\n",
       "      <td>http://viewer.mars.asu.edu/planetview/inst/ctx...</td>\n",
       "      <td>http://viewer.mars.asu.edu/planetview/inst/ctx...</td>\n",
       "    </tr>\n",
       "    <tr>\n",
       "      <th>3</th>\n",
       "      <td>F21_044006_1853_XN_05N010W</td>\n",
       "      <td>B09_013097_1850_XN_05N010W</td>\n",
       "      <td>0.10</td>\n",
       "      <td>7.49</td>\n",
       "      <td>7.39</td>\n",
       "      <td>2.041229e+08</td>\n",
       "      <td>http://viewer.mars.asu.edu/planetview/inst/ctx...</td>\n",
       "      <td>http://viewer.mars.asu.edu/planetview/inst/ctx...</td>\n",
       "    </tr>\n",
       "    <tr>\n",
       "      <th>4</th>\n",
       "      <td>P02_001876_1852_XI_05N010W</td>\n",
       "      <td>D04_028736_1852_XI_05N010W</td>\n",
       "      <td>1.86</td>\n",
       "      <td>22.34</td>\n",
       "      <td>20.48</td>\n",
       "      <td>8.467770e+08</td>\n",
       "      <td>http://viewer.mars.asu.edu/planetview/inst/ctx...</td>\n",
       "      <td>http://viewer.mars.asu.edu/planetview/inst/ctx...</td>\n",
       "    </tr>\n",
       "    <tr>\n",
       "      <th>5</th>\n",
       "      <td>F21_044006_1853_XN_05N010W</td>\n",
       "      <td>D04_028736_1852_XI_05N010W</td>\n",
       "      <td>0.10</td>\n",
       "      <td>22.34</td>\n",
       "      <td>22.24</td>\n",
       "      <td>1.087817e+09</td>\n",
       "      <td>http://viewer.mars.asu.edu/planetview/inst/ctx...</td>\n",
       "      <td>http://viewer.mars.asu.edu/planetview/inst/ctx...</td>\n",
       "    </tr>\n",
       "    <tr>\n",
       "      <th>6</th>\n",
       "      <td>P02_001876_1852_XI_05N010W</td>\n",
       "      <td>D04_028591_1864_XI_06N010W</td>\n",
       "      <td>1.86</td>\n",
       "      <td>8.45</td>\n",
       "      <td>6.59</td>\n",
       "      <td>6.924914e+08</td>\n",
       "      <td>http://viewer.mars.asu.edu/planetview/inst/ctx...</td>\n",
       "      <td>http://viewer.mars.asu.edu/planetview/inst/ctx...</td>\n",
       "    </tr>\n",
       "    <tr>\n",
       "      <th>7</th>\n",
       "      <td>F21_044006_1853_XN_05N010W</td>\n",
       "      <td>D04_028591_1864_XI_06N010W</td>\n",
       "      <td>0.10</td>\n",
       "      <td>8.45</td>\n",
       "      <td>8.35</td>\n",
       "      <td>1.039793e+09</td>\n",
       "      <td>http://viewer.mars.asu.edu/planetview/inst/ctx...</td>\n",
       "      <td>http://viewer.mars.asu.edu/planetview/inst/ctx...</td>\n",
       "    </tr>\n",
       "    <tr>\n",
       "      <th>8</th>\n",
       "      <td>P02_001876_1852_XI_05N010W</td>\n",
       "      <td>D09_030582_1850_XN_05N010W</td>\n",
       "      <td>1.86</td>\n",
       "      <td>23.31</td>\n",
       "      <td>21.45</td>\n",
       "      <td>1.137208e+09</td>\n",
       "      <td>http://viewer.mars.asu.edu/planetview/inst/ctx...</td>\n",
       "      <td>http://viewer.mars.asu.edu/planetview/inst/ctx...</td>\n",
       "    </tr>\n",
       "    <tr>\n",
       "      <th>9</th>\n",
       "      <td>F21_044006_1853_XN_05N010W</td>\n",
       "      <td>D09_030582_1850_XN_05N010W</td>\n",
       "      <td>0.10</td>\n",
       "      <td>23.31</td>\n",
       "      <td>23.21</td>\n",
       "      <td>4.497084e+08</td>\n",
       "      <td>http://viewer.mars.asu.edu/planetview/inst/ctx...</td>\n",
       "      <td>http://viewer.mars.asu.edu/planetview/inst/ctx...</td>\n",
       "    </tr>\n",
       "    <tr>\n",
       "      <th>10</th>\n",
       "      <td>P02_001876_1852_XI_05N010W</td>\n",
       "      <td>D14_032560_1850_XI_05N010W</td>\n",
       "      <td>1.86</td>\n",
       "      <td>22.10</td>\n",
       "      <td>20.24</td>\n",
       "      <td>3.660146e+09</td>\n",
       "      <td>http://viewer.mars.asu.edu/planetview/inst/ctx...</td>\n",
       "      <td>http://viewer.mars.asu.edu/planetview/inst/ctx...</td>\n",
       "    </tr>\n",
       "    <tr>\n",
       "      <th>11</th>\n",
       "      <td>F21_044006_1853_XN_05N010W</td>\n",
       "      <td>D14_032560_1850_XI_05N010W</td>\n",
       "      <td>0.10</td>\n",
       "      <td>22.10</td>\n",
       "      <td>22.00</td>\n",
       "      <td>4.608034e+08</td>\n",
       "      <td>http://viewer.mars.asu.edu/planetview/inst/ctx...</td>\n",
       "      <td>http://viewer.mars.asu.edu/planetview/inst/ctx...</td>\n",
       "    </tr>\n",
       "    <tr>\n",
       "      <th>12</th>\n",
       "      <td>P02_001876_1852_XI_05N010W</td>\n",
       "      <td>D13_032428_1850_XI_05N009W</td>\n",
       "      <td>1.86</td>\n",
       "      <td>27.52</td>\n",
       "      <td>25.66</td>\n",
       "      <td>3.660146e+09</td>\n",
       "      <td>http://viewer.mars.asu.edu/planetview/inst/ctx...</td>\n",
       "      <td>http://viewer.mars.asu.edu/planetview/inst/ctx...</td>\n",
       "    </tr>\n",
       "    <tr>\n",
       "      <th>13</th>\n",
       "      <td>F21_044006_1853_XN_05N010W</td>\n",
       "      <td>D13_032428_1850_XI_05N009W</td>\n",
       "      <td>0.10</td>\n",
       "      <td>27.52</td>\n",
       "      <td>27.42</td>\n",
       "      <td>4.349862e+08</td>\n",
       "      <td>http://viewer.mars.asu.edu/planetview/inst/ctx...</td>\n",
       "      <td>http://viewer.mars.asu.edu/planetview/inst/ctx...</td>\n",
       "    </tr>\n",
       "    <tr>\n",
       "      <th>14</th>\n",
       "      <td>P02_001876_1852_XI_05N010W</td>\n",
       "      <td>F03_036819_1840_XN_04N010W</td>\n",
       "      <td>1.86</td>\n",
       "      <td>20.30</td>\n",
       "      <td>18.44</td>\n",
       "      <td>2.433237e+09</td>\n",
       "      <td>http://viewer.mars.asu.edu/planetview/inst/ctx...</td>\n",
       "      <td>http://viewer.mars.asu.edu/planetview/inst/ctx...</td>\n",
       "    </tr>\n",
       "    <tr>\n",
       "      <th>15</th>\n",
       "      <td>F21_044006_1853_XN_05N010W</td>\n",
       "      <td>F03_036819_1840_XN_04N010W</td>\n",
       "      <td>0.10</td>\n",
       "      <td>20.30</td>\n",
       "      <td>20.20</td>\n",
       "      <td>8.548975e+08</td>\n",
       "      <td>http://viewer.mars.asu.edu/planetview/inst/ctx...</td>\n",
       "      <td>http://viewer.mars.asu.edu/planetview/inst/ctx...</td>\n",
       "    </tr>\n",
       "    <tr>\n",
       "      <th>16</th>\n",
       "      <td>P02_001876_1852_XI_05N010W</td>\n",
       "      <td>K13_058340_1849_XN_04N010W</td>\n",
       "      <td>1.86</td>\n",
       "      <td>7.26</td>\n",
       "      <td>5.40</td>\n",
       "      <td>7.186323e+08</td>\n",
       "      <td>http://viewer.mars.asu.edu/planetview/inst/ctx...</td>\n",
       "      <td>http://viewer.mars.asu.edu/planetview/inst/ctx...</td>\n",
       "    </tr>\n",
       "    <tr>\n",
       "      <th>17</th>\n",
       "      <td>F21_044006_1853_XN_05N010W</td>\n",
       "      <td>K13_058340_1849_XN_04N010W</td>\n",
       "      <td>0.10</td>\n",
       "      <td>7.26</td>\n",
       "      <td>7.16</td>\n",
       "      <td>4.137827e+08</td>\n",
       "      <td>http://viewer.mars.asu.edu/planetview/inst/ctx...</td>\n",
       "      <td>http://viewer.mars.asu.edu/planetview/inst/ctx...</td>\n",
       "    </tr>\n",
       "  </tbody>\n",
       "</table>\n",
       "</div>"
      ],
      "text/plain": [
       "                   ProductId_1                 ProductId_2  EmAngle_1  \\\n",
       "0   P02_001876_1852_XI_05N010W  P02_002021_1848_XI_04N010W       1.86   \n",
       "1   F21_044006_1853_XN_05N010W  P02_002021_1848_XI_04N010W       0.10   \n",
       "2   P02_001876_1852_XI_05N010W  B09_013097_1850_XN_05N010W       1.86   \n",
       "3   F21_044006_1853_XN_05N010W  B09_013097_1850_XN_05N010W       0.10   \n",
       "4   P02_001876_1852_XI_05N010W  D04_028736_1852_XI_05N010W       1.86   \n",
       "5   F21_044006_1853_XN_05N010W  D04_028736_1852_XI_05N010W       0.10   \n",
       "6   P02_001876_1852_XI_05N010W  D04_028591_1864_XI_06N010W       1.86   \n",
       "7   F21_044006_1853_XN_05N010W  D04_028591_1864_XI_06N010W       0.10   \n",
       "8   P02_001876_1852_XI_05N010W  D09_030582_1850_XN_05N010W       1.86   \n",
       "9   F21_044006_1853_XN_05N010W  D09_030582_1850_XN_05N010W       0.10   \n",
       "10  P02_001876_1852_XI_05N010W  D14_032560_1850_XI_05N010W       1.86   \n",
       "11  F21_044006_1853_XN_05N010W  D14_032560_1850_XI_05N010W       0.10   \n",
       "12  P02_001876_1852_XI_05N010W  D13_032428_1850_XI_05N009W       1.86   \n",
       "13  F21_044006_1853_XN_05N010W  D13_032428_1850_XI_05N009W       0.10   \n",
       "14  P02_001876_1852_XI_05N010W  F03_036819_1840_XN_04N010W       1.86   \n",
       "15  F21_044006_1853_XN_05N010W  F03_036819_1840_XN_04N010W       0.10   \n",
       "16  P02_001876_1852_XI_05N010W  K13_058340_1849_XN_04N010W       1.86   \n",
       "17  F21_044006_1853_XN_05N010W  K13_058340_1849_XN_04N010W       0.10   \n",
       "\n",
       "    EmAngle_2  diff_em        ovarea  \\\n",
       "0       23.23    21.37  6.680888e+08   \n",
       "1       23.23    23.13  1.056086e+09   \n",
       "2        7.49     5.63  4.986608e+08   \n",
       "3        7.49     7.39  2.041229e+08   \n",
       "4       22.34    20.48  8.467770e+08   \n",
       "5       22.34    22.24  1.087817e+09   \n",
       "6        8.45     6.59  6.924914e+08   \n",
       "7        8.45     8.35  1.039793e+09   \n",
       "8       23.31    21.45  1.137208e+09   \n",
       "9       23.31    23.21  4.497084e+08   \n",
       "10      22.10    20.24  3.660146e+09   \n",
       "11      22.10    22.00  4.608034e+08   \n",
       "12      27.52    25.66  3.660146e+09   \n",
       "13      27.52    27.42  4.349862e+08   \n",
       "14      20.30    18.44  2.433237e+09   \n",
       "15      20.30    20.20  8.548975e+08   \n",
       "16       7.26     5.40  7.186323e+08   \n",
       "17       7.26     7.16  4.137827e+08   \n",
       "\n",
       "                                            Ext2URL_1  \\\n",
       "0   http://viewer.mars.asu.edu/planetview/inst/ctx...   \n",
       "1   http://viewer.mars.asu.edu/planetview/inst/ctx...   \n",
       "2   http://viewer.mars.asu.edu/planetview/inst/ctx...   \n",
       "3   http://viewer.mars.asu.edu/planetview/inst/ctx...   \n",
       "4   http://viewer.mars.asu.edu/planetview/inst/ctx...   \n",
       "5   http://viewer.mars.asu.edu/planetview/inst/ctx...   \n",
       "6   http://viewer.mars.asu.edu/planetview/inst/ctx...   \n",
       "7   http://viewer.mars.asu.edu/planetview/inst/ctx...   \n",
       "8   http://viewer.mars.asu.edu/planetview/inst/ctx...   \n",
       "9   http://viewer.mars.asu.edu/planetview/inst/ctx...   \n",
       "10  http://viewer.mars.asu.edu/planetview/inst/ctx...   \n",
       "11  http://viewer.mars.asu.edu/planetview/inst/ctx...   \n",
       "12  http://viewer.mars.asu.edu/planetview/inst/ctx...   \n",
       "13  http://viewer.mars.asu.edu/planetview/inst/ctx...   \n",
       "14  http://viewer.mars.asu.edu/planetview/inst/ctx...   \n",
       "15  http://viewer.mars.asu.edu/planetview/inst/ctx...   \n",
       "16  http://viewer.mars.asu.edu/planetview/inst/ctx...   \n",
       "17  http://viewer.mars.asu.edu/planetview/inst/ctx...   \n",
       "\n",
       "                                            Ext2URL_2  \n",
       "0   http://viewer.mars.asu.edu/planetview/inst/ctx...  \n",
       "1   http://viewer.mars.asu.edu/planetview/inst/ctx...  \n",
       "2   http://viewer.mars.asu.edu/planetview/inst/ctx...  \n",
       "3   http://viewer.mars.asu.edu/planetview/inst/ctx...  \n",
       "4   http://viewer.mars.asu.edu/planetview/inst/ctx...  \n",
       "5   http://viewer.mars.asu.edu/planetview/inst/ctx...  \n",
       "6   http://viewer.mars.asu.edu/planetview/inst/ctx...  \n",
       "7   http://viewer.mars.asu.edu/planetview/inst/ctx...  \n",
       "8   http://viewer.mars.asu.edu/planetview/inst/ctx...  \n",
       "9   http://viewer.mars.asu.edu/planetview/inst/ctx...  \n",
       "10  http://viewer.mars.asu.edu/planetview/inst/ctx...  \n",
       "11  http://viewer.mars.asu.edu/planetview/inst/ctx...  \n",
       "12  http://viewer.mars.asu.edu/planetview/inst/ctx...  \n",
       "13  http://viewer.mars.asu.edu/planetview/inst/ctx...  \n",
       "14  http://viewer.mars.asu.edu/planetview/inst/ctx...  \n",
       "15  http://viewer.mars.asu.edu/planetview/inst/ctx...  \n",
       "16  http://viewer.mars.asu.edu/planetview/inst/ctx...  \n",
       "17  http://viewer.mars.asu.edu/planetview/inst/ctx...  "
      ]
     },
     "execution_count": 231,
     "metadata": {},
     "output_type": "execute_result"
    }
   ],
   "source": [
    "current_results[0][good_query_columns]"
   ]
  },
  {
   "cell_type": "code",
   "execution_count": null,
   "metadata": {},
   "outputs": [],
   "source": []
  },
  {
   "cell_type": "code",
   "execution_count": null,
   "metadata": {},
   "outputs": [],
   "source": []
  },
  {
   "cell_type": "code",
   "execution_count": null,
   "metadata": {},
   "outputs": [],
   "source": []
  },
  {
   "cell_type": "code",
   "execution_count": null,
   "metadata": {},
   "outputs": [],
   "source": []
  },
  {
   "cell_type": "code",
   "execution_count": null,
   "metadata": {
    "collapsed": false,
    "jupyter": {
     "outputs_hidden": false
    },
    "pycharm": {
     "name": "#%%\n"
    }
   },
   "outputs": [],
   "source": [
    "query_string = \n",
    "\"\"\"\n",
    "SELECT \n",
    " a.ProductId as left_pi, \n",
    " b.ProductId as right_pi,\n",
    " a.EmAngle as left_em,\n",
    " b.EmAngle as right_em,\n",
    " a.Ext2URL as left_url, \n",
    " b.Ext2URL as right_url, \n",
    " ABS(b.EmAngle - a.EmAngle)  as diff_em \n",
    "FROM \n",
    "mroctx as a, \n",
    "mroctx as b\n",
    "WHERE\n",
    " a.EmAngle < 4\n",
    "AND \n",
    "a.EmAngle < b.EmAngle \n",
    "AND\n",
    "diff_em > 10 \n",
    "AND\n",
    "diff_em < 25\n",
    "ORDER BY\n",
    "ovarea desc,\n",
    "diff_em desc,\n",
    "left_em asc\n",
    "LIMIT 1000;\n",
    "\n",
    "\"\"\""
   ]
  },
  {
   "cell_type": "code",
   "execution_count": null,
   "metadata": {},
   "outputs": [],
   "source": []
  },
  {
   "cell_type": "code",
   "execution_count": null,
   "metadata": {},
   "outputs": [],
   "source": []
  },
  {
   "cell_type": "code",
   "execution_count": null,
   "metadata": {},
   "outputs": [],
   "source": []
  }
 ],
 "metadata": {
  "kernelspec": {
   "display_name": "Python [conda env:.conda-mars_ctx_stereo_tool] *",
   "language": "python",
   "name": "conda-env-.conda-mars_ctx_stereo_tool-py"
  },
  "language_info": {
   "codemirror_mode": {
    "name": "ipython",
    "version": 3
   },
   "file_extension": ".py",
   "mimetype": "text/x-python",
   "name": "python",
   "nbconvert_exporter": "python",
   "pygments_lexer": "ipython3",
   "version": "3.8.6"
  }
 },
 "nbformat": 4,
 "nbformat_minor": 4
}
